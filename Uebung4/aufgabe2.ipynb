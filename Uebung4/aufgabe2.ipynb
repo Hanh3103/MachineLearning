{
 "cells": [
  {
   "cell_type": "code",
   "execution_count": 2,
   "metadata": {
    "collapsed": true
   },
   "outputs": [],
   "source": [
    "import numpy as np\n",
    "import matplotlib.pyplot as plt\n",
    "from sklearn.cluster import *\n",
    "from scipy.cluster.hierarchy import dendrogram, linkage\n",
    "from scipy.spatial.distance import squareform\n",
    "import pandas as pd"
   ]
  },
  {
   "cell_type": "code",
   "execution_count": 3,
   "outputs": [
    {
     "data": {
      "text/plain": "       A      B      C      D\nA  0.000  4.438  3.048  2.259\nB  4.438  0.000  6.777  2.887\nC  3.048  6.777  0.000  4.339\nD  2.259  2.887  4.339  0.000",
      "text/html": "<div>\n<style scoped>\n    .dataframe tbody tr th:only-of-type {\n        vertical-align: middle;\n    }\n\n    .dataframe tbody tr th {\n        vertical-align: top;\n    }\n\n    .dataframe thead th {\n        text-align: right;\n    }\n</style>\n<table border=\"1\" class=\"dataframe\">\n  <thead>\n    <tr style=\"text-align: right;\">\n      <th></th>\n      <th>A</th>\n      <th>B</th>\n      <th>C</th>\n      <th>D</th>\n    </tr>\n  </thead>\n  <tbody>\n    <tr>\n      <th>A</th>\n      <td>0.000</td>\n      <td>4.438</td>\n      <td>3.048</td>\n      <td>2.259</td>\n    </tr>\n    <tr>\n      <th>B</th>\n      <td>4.438</td>\n      <td>0.000</td>\n      <td>6.777</td>\n      <td>2.887</td>\n    </tr>\n    <tr>\n      <th>C</th>\n      <td>3.048</td>\n      <td>6.777</td>\n      <td>0.000</td>\n      <td>4.339</td>\n    </tr>\n    <tr>\n      <th>D</th>\n      <td>2.259</td>\n      <td>2.887</td>\n      <td>4.339</td>\n      <td>0.000</td>\n    </tr>\n  </tbody>\n</table>\n</div>"
     },
     "execution_count": 3,
     "metadata": {},
     "output_type": "execute_result"
    }
   ],
   "source": [
    "# Step 1: Import data\n",
    "df = pd.read_csv(\"distanzmatrix.csv\", sep=';', index_col=0)\n",
    "df = df.fillna(0)\n",
    "df = df + df.T\n",
    "df"
   ],
   "metadata": {
    "collapsed": false,
    "pycharm": {
     "name": "#%%\n"
    }
   }
  },
  {
   "cell_type": "code",
   "execution_count": 41,
   "outputs": [],
   "source": [
    "# m, n = df.shape\n",
    "# for j in range(n):\n",
    "#     for i in range(m):\n",
    "#         print(df.iloc[i,j])\n",
    "#     print()"
   ],
   "metadata": {
    "collapsed": false,
    "pycharm": {
     "name": "#%%\n"
    }
   }
  },
  {
   "cell_type": "code",
   "execution_count": 6,
   "outputs": [
    {
     "name": "stdout",
     "output_type": "stream",
     "text": [
      "[[0.    4.438 3.048 2.259]\n",
      " [4.438 0.    6.777 2.887]\n",
      " [3.048 6.777 0.    4.339]\n",
      " [2.259 2.887 4.339 0.   ]]\n",
      "[4.438 3.048 2.259 6.777 2.887 4.339]\n",
      "[[0.         3.         2.259      2.        ]\n",
      " [1.         4.         3.6625     3.        ]\n",
      " [2.         5.         4.72133333 4.        ]]\n"
     ]
    },
    {
     "data": {
      "text/plain": "<Figure size 640x480 with 1 Axes>",
      "image/png": "[encoded data removed]"
     },
     "metadata": {},
     "output_type": "display_data"
    }
   ],
   "source": [
    "# Step 2: Finding the optimal number of clusters using dendrogram\n",
    "# Input ist distace matrix zwischen der Strichprobe -> cannot directly use linkage\n",
    "# transformed data into condensed form\n",
    "df_array= df.to_numpy()\n",
    "print(df_array)\n",
    "dist_Vector = squareform(df_array)\n",
    "print(dist_Vector)\n",
    "#tmp = squareform(dist_Vector)\n",
    "#print(tmp)\n",
    "linkage_matrix = linkage(dist_Vector, method='average', metric='euclidean')\n",
    "print(linkage_matrix)\n",
    "dendrogram(linkage_matrix)\n",
    "plt.show()"
   ],
   "metadata": {
    "collapsed": false,
    "pycharm": {
     "name": "#%%\n"
    }
   }
  },
  {
   "cell_type": "code",
   "execution_count": null,
   "outputs": [],
   "source": [
    "# Step 3: Training the hierarchical model on dataset"
   ],
   "metadata": {
    "collapsed": false,
    "pycharm": {
     "name": "#%%\n"
    }
   }
  }
 ],
 "metadata": {
  "kernelspec": {
   "display_name": "Python 3",
   "language": "python",
   "name": "python3"
  },
  "language_info": {
   "codemirror_mode": {
    "name": "ipython",
    "version": 2
   },
   "file_extension": ".py",
   "mimetype": "text/x-python",
   "name": "python",
   "nbconvert_exporter": "python",
   "pygments_lexer": "ipython2",
   "version": "2.7.6"
  }
 },
 "nbformat": 4,
 "nbformat_minor": 0
}