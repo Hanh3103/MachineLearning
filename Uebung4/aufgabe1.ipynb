{
 "cells": [
  {
   "cell_type": "code",
   "execution_count": 1,
   "metadata": {
    "collapsed": true
   },
   "outputs": [],
   "source": [
    "import numpy as np\n",
    "import pandas as pd\n",
    "import matplotlib.pyplot as plt\n",
    "%matplotlib inline"
   ]
  },
  {
   "cell_type": "code",
   "execution_count": 2,
   "outputs": [
    {
     "data": {
      "text/plain": "     X    Y\nA  1.2  0.8\nB -0.6 -1.3\nC -0.8  0.2\nD  0.2  0.3",
      "text/html": "<div>\n<style scoped>\n    .dataframe tbody tr th:only-of-type {\n        vertical-align: middle;\n    }\n\n    .dataframe tbody tr th {\n        vertical-align: top;\n    }\n\n    .dataframe thead th {\n        text-align: right;\n    }\n</style>\n<table border=\"1\" class=\"dataframe\">\n  <thead>\n    <tr style=\"text-align: right;\">\n      <th></th>\n      <th>X</th>\n      <th>Y</th>\n    </tr>\n  </thead>\n  <tbody>\n    <tr>\n      <th>A</th>\n      <td>1.2</td>\n      <td>0.8</td>\n    </tr>\n    <tr>\n      <th>B</th>\n      <td>-0.6</td>\n      <td>-1.3</td>\n    </tr>\n    <tr>\n      <th>C</th>\n      <td>-0.8</td>\n      <td>0.2</td>\n    </tr>\n    <tr>\n      <th>D</th>\n      <td>0.2</td>\n      <td>0.3</td>\n    </tr>\n  </tbody>\n</table>\n</div>"
     },
     "execution_count": 2,
     "metadata": {},
     "output_type": "execute_result"
    }
   ],
   "source": [
    "d = np.array([[1.2,0.8], [-0.6,-1.3], [-0.8, 0.2], [0.2,0.3]])\n",
    "data = pd.DataFrame(d, columns=[\"X\", \"Y\"], index=[\"A\", \"B\", \"C\", \"D\"])\n",
    "data"
   ],
   "metadata": {
    "collapsed": false
   }
  },
  {
   "cell_type": "code",
   "execution_count": 3,
   "outputs": [],
   "source": [
    "#x = [1.2, -0.6, -0.8, 0.2]\n",
    "#y = [0.8, -1.3, 0.2, 0.3]\n",
    "\n",
    "#data = list(zip(x,y))\n",
    "#print(data)"
   ],
   "metadata": {
    "collapsed": false
   }
  },
  {
   "cell_type": "code",
   "execution_count": 4,
   "outputs": [
    {
     "data": {
      "text/plain": "<matplotlib.collections.PathCollection at 0x1e14a549180>"
     },
     "execution_count": 4,
     "metadata": {},
     "output_type": "execute_result"
    },
    {
     "data": {
      "text/plain": "<Figure size 640x480 with 1 Axes>",
      "image/png": "[encoded data removed]"
     },
     "metadata": {},
     "output_type": "display_data"
    }
   ],
   "source": [
    "plt.scatter(data.iloc[:,0], data.iloc[:,1], s = 20, c= 'k')\n"
   ],
   "metadata": {
    "collapsed": false
   }
  },
  {
   "cell_type": "code",
   "execution_count": 5,
   "outputs": [
    {
     "data": {
      "text/plain": "     X    Y\nA  1.2  0.8\nC -0.8  0.2",
      "text/html": "<div>\n<style scoped>\n    .dataframe tbody tr th:only-of-type {\n        vertical-align: middle;\n    }\n\n    .dataframe tbody tr th {\n        vertical-align: top;\n    }\n\n    .dataframe thead th {\n        text-align: right;\n    }\n</style>\n<table border=\"1\" class=\"dataframe\">\n  <thead>\n    <tr style=\"text-align: right;\">\n      <th></th>\n      <th>X</th>\n      <th>Y</th>\n    </tr>\n  </thead>\n  <tbody>\n    <tr>\n      <th>A</th>\n      <td>1.2</td>\n      <td>0.8</td>\n    </tr>\n    <tr>\n      <th>C</th>\n      <td>-0.8</td>\n      <td>0.2</td>\n    </tr>\n  </tbody>\n</table>\n</div>"
     },
     "execution_count": 5,
     "metadata": {},
     "output_type": "execute_result"
    }
   ],
   "source": [
    "def initiate_centroids(k, dset):\n",
    "    centroids_local = dset.sample(k)\n",
    "    return centroids_local\n",
    "\n",
    "k = 2\n",
    "df = data[['X','Y']]\n",
    "centroids = initiate_centroids(k,df)\n",
    "centroids\n"
   ],
   "metadata": {
    "collapsed": false
   }
  },
  {
   "cell_type": "code",
   "execution_count": 6,
   "outputs": [],
   "source": [
    "def update_cluster_mean(cluster):\n",
    "    centroid = cluster[['X','Y']].mean()\n",
    "    return centroid.to_numpy()"
   ],
   "metadata": {
    "collapsed": false
   }
  },
  {
   "cell_type": "code",
   "execution_count": 7,
   "outputs": [
    {
     "data": {
      "text/plain": "array([[ 0.2,  0.5],\n       [-0.2, -0.5]])"
     },
     "execution_count": 7,
     "metadata": {},
     "output_type": "execute_result"
    }
   ],
   "source": [
    "# Berechnung der init_Clusterschwerpunkte\n",
    "C1_init = data.iloc[[0,2]]\n",
    "C1 = update_cluster_mean(C1_init)\n",
    "C2_init = data.iloc[[1,3]]\n",
    "C2 = update_cluster_mean(C2_init)\n",
    "# axis = 0 := rows\n",
    "#axis = 1 := columns\n",
    "#init_centroids = pd.concat([C1, C2], axis=1) # Add to new columns\n",
    "init_centroids = np.stack((C1, C2), axis=0)\n",
    "init_centroids"
   ],
   "metadata": {
    "collapsed": false
   }
  },
  {
   "cell_type": "code",
   "execution_count": 8,
   "outputs": [],
   "source": [
    "m, n= data.shape\n",
    "n_iter = 100\n",
    "K= 2"
   ],
   "metadata": {
    "collapsed": false
   }
  },
  {
   "cell_type": "code",
   "execution_count": 9,
   "outputs": [],
   "source": [
    "# Koventioneller Weg\n",
    "# def euclidean(a, b):\n",
    "#     return np.sqrt(np.sum((a - b)**2))\n"
   ],
   "metadata": {
    "collapsed": false
   }
  },
  {
   "cell_type": "code",
   "execution_count": 10,
   "outputs": [],
   "source": [
    "# Entscheiden, welcher Datenpunkt zu welchen Cluster geht\n",
    "# def assign_cluster(X, init_cen, k_cluster):\n",
    "#     #cluster = np.array()\n",
    "#     cluster = []\n",
    "#     for i in range(len(X)):\n",
    "#         #euc_dist = np.array()\n",
    "#         euc_dist = []\n",
    "#         for j in range(k_cluster):\n",
    "#             euc_dist.append(np.linalg.norm(np.subtract(X.iloc[i], init_cen[j])))\n",
    "#         min_dist_index = np.argmin(euc_dist)\n",
    "#         cluster.append(min_dist_index)\n",
    "#     return np.asarray(cluster)"
   ],
   "metadata": {
    "collapsed": false
   }
  },
  {
   "cell_type": "code",
   "execution_count": 11,
   "outputs": [],
   "source": [
    "# t = assign_cluster(data, init_centroids, K)\n",
    "# t"
   ],
   "metadata": {
    "collapsed": false
   }
  },
  {
   "cell_type": "code",
   "execution_count": 12,
   "outputs": [],
   "source": [
    "# def update_centroids(X, clusters, k_cluster):\n",
    "#     centroid = []\n",
    "#     for i in range(k_cluster):\n",
    "#         temp = []\n",
    "#         for j in range(len(X)):\n",
    "#             if clusters[j] == i:\n",
    "#                 temp.append(X.iloc[j])\n",
    "#         # X     1.2   0.8\n",
    "#         # Y     0.2   0.3\n",
    "#         # Name  A     B\n",
    "#         centroid.append(np.mean(temp,axis=0))\n",
    "#     return np.asarray(centroid)\n"
   ],
   "metadata": {
    "collapsed": false
   }
  },
  {
   "cell_type": "code",
   "execution_count": 13,
   "outputs": [],
   "source": [
    "# f = update_centroids(data, t, K)\n",
    "# f"
   ],
   "metadata": {
    "collapsed": false
   }
  },
  {
   "cell_type": "code",
   "execution_count": 14,
   "outputs": [
    {
     "data": {
      "text/plain": "array([0, 1, 1, 0])"
     },
     "execution_count": 14,
     "metadata": {},
     "output_type": "execute_result"
    }
   ],
   "source": [
    "# Mit sklearn Packet\n",
    "from sklearn.cluster import KMeans\n",
    "\n",
    "kmeans = KMeans(n_clusters=2, init=init_centroids, n_init=1)\n",
    "\n",
    "data_1_km = kmeans.fit_predict(data)\n",
    "data_1_km"
   ],
   "metadata": {
    "collapsed": false
   }
  },
  {
   "cell_type": "code",
   "execution_count": 15,
   "outputs": [
    {
     "name": "stderr",
     "output_type": "stream",
     "text": [
      "C:\\Users\\Flo13\\AppData\\Local\\Temp\\ipykernel_22692\\161505079.py:19: UserWarning: You passed a edgecolor/edgecolors ('b') for an unfilled marker ('+').  Matplotlib is ignoring the edgecolor in favor of the facecolor.  This behavior may change in the future.\n",
      "  plt.scatter(\n"
     ]
    },
    {
     "data": {
      "text/plain": "<matplotlib.collections.PathCollection at 0x1e14d1535e0>"
     },
     "execution_count": 15,
     "metadata": {},
     "output_type": "execute_result"
    },
    {
     "data": {
      "text/plain": "<Figure size 640x480 with 1 Axes>",
      "image/png": "[encoded data removed]"
     },
     "metadata": {},
     "output_type": "display_data"
    }
   ],
   "source": [
    "plt.scatter(\n",
    "    data.iloc[data_1_km == 0, 0] , data.iloc[data_1_km == 0, 1],\n",
    "    s = 50,\n",
    "    c = 'orange',\n",
    "    marker='s',\n",
    "    edgecolors='black',\n",
    "    label='cluster 1'\n",
    ")\n",
    "\n",
    "plt.scatter(\n",
    "    data.iloc[data_1_km == 1, 0] , data.iloc[data_1_km == 1, 1],\n",
    "    s = 50,\n",
    "    c = 'lightgreen',\n",
    "    marker='s',\n",
    "    edgecolors='black',\n",
    "    label='cluster 2'\n",
    ")\n",
    "\n",
    "plt.scatter(\n",
    "    kmeans.cluster_centers_[:, 0], kmeans.cluster_centers_[:, 1],\n",
    "    s = 100,\n",
    "    marker= '+',\n",
    "    c = 'r',\n",
    "    edgecolors='b'\n",
    ")"
   ],
   "metadata": {
    "collapsed": false
   }
  },
  {
   "cell_type": "code",
   "execution_count": 16,
   "outputs": [
    {
     "name": "stdout",
     "output_type": "stream",
     "text": [
      "Silhouetter Score: 0.274\n"
     ]
    }
   ],
   "source": [
    "# Silhoette_score\n",
    "from sklearn.metrics import *\n",
    "score = silhouette_score(data, kmeans.labels_, metric='euclidean')\n",
    "print('Silhouetter Score: %.3f' % score)"
   ],
   "metadata": {
    "collapsed": false
   }
  },
  {
   "cell_type": "code",
   "execution_count": 17,
   "outputs": [
    {
     "ename": "ModuleNotFoundError",
     "evalue": "No module named 'yellowbrick'",
     "output_type": "error",
     "traceback": [
      "\u001B[1;31m---------------------------------------------------------------------------\u001B[0m",
      "\u001B[1;31mModuleNotFoundError\u001B[0m                       Traceback (most recent call last)",
      "Cell \u001B[1;32mIn [17], line 1\u001B[0m\n\u001B[1;32m----> 1\u001B[0m \u001B[38;5;28;01mfrom\u001B[39;00m \u001B[38;5;21;01myellowbrick\u001B[39;00m\u001B[38;5;21;01m.\u001B[39;00m\u001B[38;5;21;01mcluster\u001B[39;00m \u001B[38;5;28;01mimport\u001B[39;00m SilhouetteVisualizer\n\u001B[0;32m      3\u001B[0m \u001B[38;5;66;03m#fig, ax = plt.subplot(1,3,figsize=(10,8))\u001B[39;00m\n\u001B[0;32m      4\u001B[0m \u001B[38;5;28;01mfor\u001B[39;00m i \u001B[38;5;129;01min\u001B[39;00m [\u001B[38;5;241m2\u001B[39m]:\n",
      "\u001B[1;31mModuleNotFoundError\u001B[0m: No module named 'yellowbrick'"
     ]
    }
   ],
   "source": [
    "from yellowbrick.cluster import SilhouetteVisualizer\n",
    "\n",
    "#fig, ax = plt.subplot(1,3,figsize=(10,8))\n",
    "for i in [2]:\n",
    "    k_m = KMeans(n_clusters=i, init=init_centroids,n_init=1)\n",
    "    q, mod = divmod(i, 2)\n",
    "\n",
    "    visualizer = SilhouetteVisualizer(k_m, colors='yellowbrick')\n",
    "    visualizer.fit(data)\n",
    "    visualizer.show()\n"
   ],
   "metadata": {
    "collapsed": false
   }
  },
  {
   "cell_type": "code",
   "execution_count": null,
   "outputs": [],
   "source": [
    "range_n_clusters = [2, 3]\n",
    "silhouette_avg = []\n",
    "for num_clusters in range_n_clusters:\n",
    "    kmeans = KMeans(n_clusters=num_clusters)\n",
    "    kmeans.fit(data)\n",
    "    cluster_labels = kmeans.labels_\n",
    "\n",
    " # silhouette score\n",
    "    silhouette_avg.append(silhouette_score(data, cluster_labels))\n",
    "plt.plot(range_n_clusters,silhouette_avg,'bx-')\n",
    "plt.xlabel('Values of K')\n",
    "plt.ylabel('Silhouette score')\n",
    "plt.title('Silhouette analysis For Optimal k')\n",
    "plt.show()"
   ],
   "metadata": {
    "collapsed": false
   }
  },
  {
   "cell_type": "markdown",
   "source": [
    "1c)\n",
    "Die Silhouette gibt für eine Beobachtung an, wie gut die Zuordnung zu den beiden nächstgelegenen Clustern ist.\n",
    " Der Silhouetteoeffizente gibt einen Maßstab für die Qualität des Clusterings an, welcher unabhängig von der\n",
    "Clusteranzahl ist. Silhouettekoefizienten liegen zwischen -1 und 1.\n",
    "Ein negativer Wert für einen Punkt o, welcher Cluster A zugeordnet wurde zeigt an, dass o eher zum Cluster B passt, bei Werten um null ist eine Zugehörigkeit nicht deutlich und große Werte ergeben sich, wenn o wohl korrekt dem Cluster A zugeordnet wurde."
   ],
   "metadata": {
    "collapsed": false
   }
  }
 ],
 "metadata": {
  "kernelspec": {
   "display_name": "Python 3",
   "language": "python",
   "name": "python3"
  },
  "language_info": {
   "codemirror_mode": {
    "name": "ipython",
    "version": 2
   },
   "file_extension": ".py",
   "mimetype": "text/x-python",
   "name": "python",
   "nbconvert_exporter": "python",
   "pygments_lexer": "ipython2",
   "version": "2.7.6"
  }
 },
 "nbformat": 4,
 "nbformat_minor": 0
}
