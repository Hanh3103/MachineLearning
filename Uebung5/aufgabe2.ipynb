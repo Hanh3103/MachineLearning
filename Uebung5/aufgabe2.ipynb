{
 "cells": [
  {
   "cell_type": "code",
   "execution_count": 79,
   "metadata": {},
   "outputs": [],
   "source": [
    "import pandas as pd\n",
    "import numpy as np\n",
    "from sklearn.linear_model import LogisticRegression\n",
    "from sklearn.model_selection import train_test_split\n",
    "from sklearn.metrics import confusion_matrix\n",
    "import matplotlib.pyplot as plt\n",
    "import seaborn as sns\n",
    "from scipy.special import expit, logit\n",
    "import statsmodels.api as sm"
   ]
  },
  {
   "cell_type": "code",
   "execution_count": 80,
   "metadata": {},
   "outputs": [
    {
     "data": {
      "text/html": [
       "<div>\n",
       "<style scoped>\n",
       "    .dataframe tbody tr th:only-of-type {\n",
       "        vertical-align: middle;\n",
       "    }\n",
       "\n",
       "    .dataframe tbody tr th {\n",
       "        vertical-align: top;\n",
       "    }\n",
       "\n",
       "    .dataframe thead th {\n",
       "        text-align: right;\n",
       "    }\n",
       "</style>\n",
       "<table border=\"1\" class=\"dataframe\">\n",
       "  <thead>\n",
       "    <tr style=\"text-align: right;\">\n",
       "      <th></th>\n",
       "      <th>zeit_invest</th>\n",
       "      <th>bestanden</th>\n",
       "    </tr>\n",
       "  </thead>\n",
       "  <tbody>\n",
       "    <tr>\n",
       "      <th>0</th>\n",
       "      <td>24</td>\n",
       "      <td>1</td>\n",
       "    </tr>\n",
       "    <tr>\n",
       "      <th>1</th>\n",
       "      <td>23</td>\n",
       "      <td>1</td>\n",
       "    </tr>\n",
       "    <tr>\n",
       "      <th>2</th>\n",
       "      <td>30</td>\n",
       "      <td>1</td>\n",
       "    </tr>\n",
       "    <tr>\n",
       "      <th>3</th>\n",
       "      <td>22</td>\n",
       "      <td>0</td>\n",
       "    </tr>\n",
       "    <tr>\n",
       "      <th>4</th>\n",
       "      <td>13</td>\n",
       "      <td>0</td>\n",
       "    </tr>\n",
       "    <tr>\n",
       "      <th>5</th>\n",
       "      <td>13</td>\n",
       "      <td>1</td>\n",
       "    </tr>\n",
       "    <tr>\n",
       "      <th>6</th>\n",
       "      <td>25</td>\n",
       "      <td>1</td>\n",
       "    </tr>\n",
       "    <tr>\n",
       "      <th>7</th>\n",
       "      <td>24</td>\n",
       "      <td>1</td>\n",
       "    </tr>\n",
       "    <tr>\n",
       "      <th>8</th>\n",
       "      <td>31</td>\n",
       "      <td>1</td>\n",
       "    </tr>\n",
       "    <tr>\n",
       "      <th>9</th>\n",
       "      <td>17</td>\n",
       "      <td>0</td>\n",
       "    </tr>\n",
       "    <tr>\n",
       "      <th>10</th>\n",
       "      <td>10</td>\n",
       "      <td>0</td>\n",
       "    </tr>\n",
       "    <tr>\n",
       "      <th>11</th>\n",
       "      <td>19</td>\n",
       "      <td>1</td>\n",
       "    </tr>\n",
       "    <tr>\n",
       "      <th>12</th>\n",
       "      <td>12</td>\n",
       "      <td>0</td>\n",
       "    </tr>\n",
       "    <tr>\n",
       "      <th>13</th>\n",
       "      <td>20</td>\n",
       "      <td>0</td>\n",
       "    </tr>\n",
       "    <tr>\n",
       "      <th>14</th>\n",
       "      <td>15</td>\n",
       "      <td>0</td>\n",
       "    </tr>\n",
       "    <tr>\n",
       "      <th>15</th>\n",
       "      <td>23</td>\n",
       "      <td>0</td>\n",
       "    </tr>\n",
       "    <tr>\n",
       "      <th>16</th>\n",
       "      <td>27</td>\n",
       "      <td>1</td>\n",
       "    </tr>\n",
       "    <tr>\n",
       "      <th>17</th>\n",
       "      <td>18</td>\n",
       "      <td>0</td>\n",
       "    </tr>\n",
       "    <tr>\n",
       "      <th>18</th>\n",
       "      <td>22</td>\n",
       "      <td>1</td>\n",
       "    </tr>\n",
       "    <tr>\n",
       "      <th>19</th>\n",
       "      <td>23</td>\n",
       "      <td>1</td>\n",
       "    </tr>\n",
       "  </tbody>\n",
       "</table>\n",
       "</div>"
      ],
      "text/plain": [
       "    zeit_invest  bestanden\n",
       "0            24          1\n",
       "1            23          1\n",
       "2            30          1\n",
       "3            22          0\n",
       "4            13          0\n",
       "5            13          1\n",
       "6            25          1\n",
       "7            24          1\n",
       "8            31          1\n",
       "9            17          0\n",
       "10           10          0\n",
       "11           19          1\n",
       "12           12          0\n",
       "13           20          0\n",
       "14           15          0\n",
       "15           23          0\n",
       "16           27          1\n",
       "17           18          0\n",
       "18           22          1\n",
       "19           23          1"
      ]
     },
     "execution_count": 80,
     "metadata": {},
     "output_type": "execute_result"
    }
   ],
   "source": [
    "df = pd.read_csv(\"./data/examresults.csv\", sep=';')\n",
    "df"
   ]
  },
  {
   "cell_type": "code",
   "execution_count": 81,
   "metadata": {},
   "outputs": [
    {
     "data": {
      "text/plain": [
       "(array([[24],\n",
       "        [23],\n",
       "        [30],\n",
       "        [22],\n",
       "        [13],\n",
       "        [13],\n",
       "        [25],\n",
       "        [24],\n",
       "        [31],\n",
       "        [17],\n",
       "        [10],\n",
       "        [19],\n",
       "        [12],\n",
       "        [20],\n",
       "        [15],\n",
       "        [23],\n",
       "        [27],\n",
       "        [18],\n",
       "        [22],\n",
       "        [23]], dtype=int64),\n",
       " array([1, 1, 1, 0, 0, 1, 1, 1, 1, 0, 0, 1, 0, 0, 0, 0, 1, 0, 1, 1],\n",
       "       dtype=int64))"
      ]
     },
     "execution_count": 81,
     "metadata": {},
     "output_type": "execute_result"
    }
   ],
   "source": [
    "X = df.fillna(-1).drop(\"bestanden\",axis=1).values\n",
    "y = df.fillna(-1)[\"bestanden\"].values\n",
    "X, y"
   ]
  },
  {
   "cell_type": "code",
   "execution_count": 82,
   "metadata": {},
   "outputs": [],
   "source": [
    "# Train-test-split\n",
    "X_train, X_test, y_train, y_test = train_test_split(X, y, test_size = 0.2)"
   ]
  },
  {
   "cell_type": "code",
   "execution_count": 83,
   "metadata": {},
   "outputs": [
    {
     "data": {
      "text/plain": [
       "(array([[0.55720779]]), array([-11.20648131]))"
      ]
     },
     "execution_count": 83,
     "metadata": {},
     "output_type": "execute_result"
    }
   ],
   "source": [
    "#Das Model trainiern\n",
    "log_modell = LogisticRegression()\n",
    "log_modell.fit(X_train,y_train)\n",
    "log_modell.coef_, log_modell.intercept_"
   ]
  },
  {
   "cell_type": "code",
   "execution_count": 84,
   "metadata": {},
   "outputs": [
    {
     "name": "stdout",
     "output_type": "stream",
     "text": [
      "Accuracy Score: 0.5\n",
      "Regeressionskoeffiziente=[[0.55720779]], constant=[-11.20648131]\n"
     ]
    }
   ],
   "source": [
    "#Das Model testen\n",
    "p_pred = log_modell.predict_proba(X_test)\n",
    "y_pred = log_modell.predict(X_test)\n",
    "print(\"Accuracy Score: \" + str(log_modell.score(X_test,y_test)))\n",
    "print(\"Regeressionskoeffiziente=\" + str(log_modell.coef_) + \", constant=\" + str(log_modell.intercept_))"
   ]
  },
  {
   "cell_type": "code",
   "execution_count": 85,
   "metadata": {},
   "outputs": [],
   "source": [
    "#sns.regplot(x='zeit_invest', y='bestanden', data=df, logistic=True)"
   ]
  },
  {
   "cell_type": "code",
   "execution_count": 86,
   "metadata": {},
   "outputs": [
    {
     "data": {
      "text/plain": [
       "'\\ndef plot_sigmoid():\\n    #X_test_modi = np.append(X_test, [[10], [30]], axis=0)\\n    X_train_sorted = np.sort(X_train, axis=0)\\n    y_pred_absolut = X_train_sorted*log_modell.coef_ + log_modell.intercept_\\n    #sigmond kurve\\n    loss = expit(y_pred_absolut)\\n    \\n\\n    plt.figure(1, figsize=(4,3))\\n    plt.scatter(X_train.ravel(), y_train, color=\"black\", marker=\\'+\\')\\n    plt.plot(X_train_sorted, loss.ravel(), c=\\'green\\')\\n    #plt.xticks(range(10,30))\\n    plt.yticks([0,0.25,0.5,0.75,1])\\n    plt.ylim(-0.25, 1.25)\\n    plt.axhline(0.5, c=\"red\", label=\"cutoff\")\\n    plt.legend(loc=\"lower right\")\\n\\nplot_sigmoid()\\n'"
      ]
     },
     "execution_count": 86,
     "metadata": {},
     "output_type": "execute_result"
    }
   ],
   "source": [
    "\"\"\"\n",
    "def plot_sigmoid():\n",
    "    #X_test_modi = np.append(X_test, [[10], [30]], axis=0)\n",
    "    X_train_sorted = np.sort(X_train, axis=0)\n",
    "    y_pred_absolut = X_train_sorted*log_modell.coef_ + log_modell.intercept_\n",
    "    #sigmond kurve\n",
    "    loss = expit(y_pred_absolut)\n",
    "    \n",
    "\n",
    "    plt.figure(1, figsize=(4,3))\n",
    "    plt.scatter(X_train.ravel(), y_train, color=\"black\", marker='+')\n",
    "    plt.plot(X_train_sorted, loss.ravel(), c='green')\n",
    "    #plt.xticks(range(10,30))\n",
    "    plt.yticks([0,0.25,0.5,0.75,1])\n",
    "    plt.ylim(-0.25, 1.25)\n",
    "    plt.axhline(0.5, c=\"red\", label=\"cutoff\")\n",
    "    plt.legend(loc=\"lower right\")\n",
    "\n",
    "plot_sigmoid()\n",
    "\"\"\""
   ]
  },
  {
   "cell_type": "code",
   "execution_count": 87,
   "metadata": {
    "collapsed": false
   },
   "outputs": [
    {
     "data": {
      "image/png": "[encoded data removed]",
      "text/plain": [
       "<Figure size 400x300 with 1 Axes>"
      ]
     },
     "metadata": {},
     "output_type": "display_data"
    }
   ],
   "source": [
    "def plot_sigmoid():\n",
    "    X_test_modi = np.append(X_train, X_test, axis=0)\n",
    "    Y_test_modi = np.append(y_train, y_test, axis=0)\n",
    "    X_train_sorted = np.sort(X_test_modi, axis=0)\n",
    "    y_pred_absolut = X_train_sorted*log_modell.coef_ + log_modell.intercept_\n",
    "    #sigmond kurve\n",
    "    loss = expit(y_pred_absolut)\n",
    "\n",
    "\n",
    "    plt.figure(1, figsize=(4,3))\n",
    "    plt.scatter(X_test_modi.ravel(), Y_test_modi, color=\"black\", marker='+')\n",
    "    plt.plot(X_train_sorted, loss.ravel(), c='green')\n",
    "    #plt.xticks(range(10,30))\n",
    "    plt.yticks([0,0.25,0.5,0.75,1])\n",
    "    plt.ylim(-0.25, 1.25)\n",
    "    plt.axhline(0.5, c=\"red\", label=\"cutoff\")\n",
    "    plt.legend(loc=\"lower right\")\n",
    "\n",
    "plot_sigmoid()"
   ]
  },
  {
   "cell_type": "code",
   "execution_count": 88,
   "metadata": {},
   "outputs": [],
   "source": [
    "# logit_model=sm.Logit(y,X)\n",
    "# result=logit_model.fit()\n",
    "# print(result.summary())"
   ]
  },
  {
   "cell_type": "code",
   "execution_count": 89,
   "metadata": {},
   "outputs": [
    {
     "name": "stdout",
     "output_type": "stream",
     "text": [
      "[[2 1]\n",
      " [1 0]]\n"
     ]
    }
   ],
   "source": [
    "cm = confusion_matrix(y_test, y_pred)\n",
    "print(cm)"
   ]
  },
  {
   "cell_type": "code",
   "execution_count": 90,
   "metadata": {},
   "outputs": [
    {
     "name": "stdout",
     "output_type": "stream",
     "text": [
      "True Positive =  0.6666666666666666\n",
      "False Positive =  0.3333333333333333\n",
      "True Negative =  1.0\n",
      "False Negative =  0.0\n"
     ]
    }
   ],
   "source": [
    "tp = float(cm[0,0]) / float(cm[0,0] + cm[1,0])\n",
    "fp = float(cm[1,0]) / float(cm[0,0] + cm[1,0])\n",
    "tn = float(cm[0,1]) / float(cm[0,1] + cm[1,1])\n",
    "fn = float(cm[1,1]) / float(cm[1,1] + cm[0,1])\n",
    " \n",
    "print (\"True Positive = \", tp)\n",
    "print (\"False Positive = \", fp)\n",
    "print (\"True Negative = \", tn)\n",
    "print (\"False Negative = \", fn)"
   ]
  },
  {
   "cell_type": "code",
   "execution_count": 91,
   "metadata": {},
   "outputs": [],
   "source": [
    "# heatmap?"
   ]
  }
 ],
 "metadata": {
  "kernelspec": {
   "display_name": "Python 3.9.12 ('base')",
   "language": "python",
   "name": "python3"
  },
  "language_info": {
   "codemirror_mode": {
    "name": "ipython",
    "version": 3
   },
   "file_extension": ".py",
   "mimetype": "text/x-python",
   "name": "python",
   "nbconvert_exporter": "python",
   "pygments_lexer": "ipython3",
   "version": "3.9.12"
  },
  "orig_nbformat": 4,
  "vscode": {
   "interpreter": {
    "hash": "a3cfcd2c131dde6df238832f88308604a1eb90fc6d6d6fea5319579fd35ec8b6"
   }
  }
 },
 "nbformat": 4,
 "nbformat_minor": 2
}
