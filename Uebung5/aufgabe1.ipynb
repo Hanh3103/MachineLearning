{
 "cells": [
  {
   "cell_type": "code",
   "execution_count": 30,
   "metadata": {},
   "outputs": [],
   "source": [
    "import pandas as pd\n",
    "import numpy as np\n",
    "from sklearn import datasets, linear_model\n",
    "from sklearn.metrics import mean_squared_error, r2_score\n",
    "import matplotlib.pyplot as plt"
   ]
  },
  {
   "cell_type": "code",
   "execution_count": 22,
   "metadata": {},
   "outputs": [
    {
     "data": {
      "text/plain": [
       "(     class    GLCM_pan  Mean_Green    Mean_Red    Mean_NIR     SD_pan\n",
       " 0        w  120.362774  205.500000  119.395349  416.581395  20.676318\n",
       " 1        w  124.739583  202.800000  115.333333  354.333333  16.707151\n",
       " 2        w  134.691964  199.285714  116.857143  477.857143  22.496712\n",
       " 3        w  127.946309  178.368421   92.368421  278.473684  14.977453\n",
       " 4        w  135.431548  197.000000  112.690476  532.952381  17.604193\n",
       " ...    ...         ...         ...         ...         ...        ...\n",
       " 4334     n  111.568773  203.588235   93.264706  403.735294  26.512777\n",
       " 4335     n  125.435240  206.394161   93.058394  512.270073  33.466060\n",
       " 4336     n  132.123859  465.343750  295.333333  499.250000  38.762967\n",
       " 4337     n  124.469536  215.152632   98.484211  675.915789  28.506542\n",
       " 4338     n  125.171928  559.048000  365.968000  439.272000  15.392322\n",
       " \n",
       " [4339 rows x 6 columns],\n",
       "     class    GLCM_pan  Mean_Green    Mean_Red    Mean_NIR     SD_pan\n",
       " 0       n  109.828571  183.700000   82.950000  251.750000  16.079412\n",
       " 1       n  130.284483  212.637931   96.896552  482.396552  21.210295\n",
       " 2       n  131.386555  185.466667   85.466667  419.666667  13.339998\n",
       " 3       n  141.345098  180.875000   81.500000  348.062500  18.213577\n",
       " 4       w  121.383408  218.357143  112.017857  426.607143  19.083196\n",
       " ..    ...         ...         ...         ...         ...        ...\n",
       " 495     n  123.554348  202.826087  106.391304  364.565217  17.314068\n",
       " 496     n  121.549028  276.220000  175.593333  402.620000  13.394574\n",
       " 497     n  119.076687  247.951220  113.365854  808.024390  24.830059\n",
       " 498     n  107.944444  197.000000   90.000000  451.000000   8.214887\n",
       " 499     n  119.731928  182.238095   74.285714  301.690476  22.944278\n",
       " \n",
       " [500 rows x 6 columns])"
      ]
     },
     "execution_count": 22,
     "metadata": {},
     "output_type": "execute_result"
    }
   ],
   "source": [
    "# Import data\n",
    "df_train = pd.read_csv(\"./data/training.csv\")\n",
    "df_test = pd.read_csv(\"./data/testing.csv\")\n",
    "df_train, df_test"
   ]
  },
  {
   "cell_type": "code",
   "execution_count": null,
   "metadata": {},
   "outputs": [],
   "source": [
    "df_train = df_train.drop(['class'], axis=1)\n",
    "df_test = df_test.drop(['class'], axis=1)"
   ]
  },
  {
   "cell_type": "code",
   "execution_count": 23,
   "metadata": {},
   "outputs": [
    {
     "data": {
      "text/plain": [
       "(array([[120.3627737 , 205.5       , 119.3953488 , 416.5813953 ],\n",
       "        [124.7395833 , 202.8       , 115.3333333 , 354.3333333 ],\n",
       "        [134.6919643 , 199.2857143 , 116.8571429 , 477.8571429 ],\n",
       "        ...,\n",
       "        [132.1238592 , 465.34375   , 295.3333333 , 499.25      ],\n",
       "        [124.4695364 , 215.1526316 ,  98.48421053, 675.9157895 ],\n",
       "        [125.171928  , 559.048     , 365.968     , 439.272     ]]),\n",
       " array([20.67631835, 16.70715083, 22.49671178, ..., 38.76296686,\n",
       "        28.50654248, 15.39232155]))"
      ]
     },
     "execution_count": 23,
     "metadata": {},
     "output_type": "execute_result"
    }
   ],
   "source": [
    "# data preprocessing\n",
    "X_train = df_train.fillna(0).drop(\"SD_pan\", axis=1).values\n",
    "X_test = df_test.fillna(0).drop(\"SD_pan\", axis=1).values\n",
    "\n",
    "y_train = df_train.fillna(0)[\"SD_pan\"].values\n",
    "y_test = df_test.fillna(0)[\"SD_pan\"].values\n",
    "\n",
    "X_train, y_train"
   ]
  },
  {
   "cell_type": "code",
   "execution_count": 29,
   "metadata": {},
   "outputs": [
    {
     "data": {
      "text/plain": [
       "((500, 4), (500,))"
      ]
     },
     "execution_count": 29,
     "metadata": {},
     "output_type": "execute_result"
    }
   ],
   "source": [
    "# Create linear regression object\n",
    "regr = linear_model.LinearRegression()\n",
    "\n",
    "# Train the model using the training sets\n",
    "regr.fit(X_train, y_train)\n",
    "\n",
    "# Make predictions using the testing set\n",
    "y_pred = regr.predict(X_test)\n",
    "X_test.shape, y_pred.shape\n"
   ]
  },
  {
   "cell_type": "code",
   "execution_count": 27,
   "metadata": {},
   "outputs": [
    {
     "name": "stdout",
     "output_type": "stream",
     "text": [
      "Coefficients: \n",
      " [-0.02614269 -0.0291286   0.07129446  0.007515  ]\n",
      "Mean squared error: 66.71\n",
      "Coefficient of determination: -0.46\n"
     ]
    }
   ],
   "source": [
    "# The coefficients\n",
    "print(\"Coefficients: \\n\", regr.coef_)\n",
    "# The mean squared error\n",
    "print(\"Mean squared error: %.2f\" % mean_squared_error(y_test, y_pred))\n",
    "# The coefficient of determination: 1 is perfect prediction\n",
    "print(\"Coefficient of determination: %.2f\" % r2_score(y_test, y_pred))"
   ]
  },
  {
   "cell_type": "code",
   "execution_count": 47,
   "metadata": {},
   "outputs": [
    {
     "data": {
      "text/plain": [
       "(array([[205.5      ],\n",
       "        [202.8      ],\n",
       "        [199.2857143],\n",
       "        ...,\n",
       "        [465.34375  ],\n",
       "        [215.1526316],\n",
       "        [559.048    ]]),\n",
       " array([119.3953488 , 115.3333333 , 116.8571429 , ..., 295.3333333 ,\n",
       "         98.48421053, 365.968     ]))"
      ]
     },
     "execution_count": 47,
     "metadata": {},
     "output_type": "execute_result"
    }
   ],
   "source": [
    "# ii) Funktion, die fur das Attribut Mean Red basierend auf dem Attribut Mean Green vorhersagt.\n",
    "X_train_ = np.vstack(df_train.fillna(0)[\"Mean_Green\"].values)\n",
    "X_test_ = np.vstack(df_test.fillna(0)[\"Mean_Green\"].values)\n",
    "\n",
    "y_train_ = df_train.fillna(0)[\"Mean_Red\"].values\n",
    "y_test_ = df_test.fillna(0)[\"Mean_Red\"].values\n",
    "\n",
    "X_train_, y_train_"
   ]
  },
  {
   "cell_type": "code",
   "execution_count": 48,
   "metadata": {},
   "outputs": [],
   "source": [
    "# Create linear regression object\n",
    "regr_ = linear_model.LinearRegression()\n",
    "# Train the model using the training sets\n",
    "regr_.fit(X_train_, y_train_)\n",
    "\n",
    "# Make predictions using the testing set\n",
    "y_pred_ = regr_.predict(X_test_)"
   ]
  },
  {
   "cell_type": "code",
   "execution_count": 50,
   "metadata": {},
   "outputs": [
    {
     "name": "stdout",
     "output_type": "stream",
     "text": [
      "Coefficients: \n",
      " [0.96394292]\n",
      "Constante: \n",
      " -108.18046794897779\n",
      "Mean squared error: 382.78\n",
      "Coefficient of determination: 0.93\n"
     ]
    }
   ],
   "source": [
    "# The coefficients\n",
    "print(\"Coefficients: \\n\", regr_.coef_)\n",
    "print(\"Constante: \\n\", regr_.intercept_)\n",
    "# The mean squared error\n",
    "print(\"Mean squared error: %.2f\" % mean_squared_error(y_test_, y_pred_))\n",
    "# The coefficient of determination: 1 is perfect prediction\n",
    "print(\"Coefficient of determination: %.2f\" % r2_score(y_test_, y_pred_))"
   ]
  },
  {
   "cell_type": "code",
   "execution_count": 58,
   "metadata": {},
   "outputs": [
    {
     "data": {
      "image/png": "[encoded data removed]",
      "text/plain": [
       "<Figure size 800x700 with 1 Axes>"
      ]
     },
     "metadata": {},
     "output_type": "display_data"
    }
   ],
   "source": [
    "# Plot outputs\n",
    "plt.figure(1, figsize=(8,7))\n",
    "plt.scatter(X_test_, y_test_, color=\"gray\", marker='+')\n",
    "plt.plot(X_test_, y_pred_, color=\"green\", linewidth=2)\n",
    "\n",
    "plt.ylabel(\"Mean_Red\")\n",
    "plt.xlabel(\"Mean_Green\")\n",
    "\n",
    "#plt.xticks(())\n",
    "#plt.yticks(())\n",
    "\n",
    "plt.show()"
   ]
  }
 ],
 "metadata": {
  "kernelspec": {
   "display_name": "Python 3.9.12 ('base')",
   "language": "python",
   "name": "python3"
  },
  "language_info": {
   "codemirror_mode": {
    "name": "ipython",
    "version": 3
   },
   "file_extension": ".py",
   "mimetype": "text/x-python",
   "name": "python",
   "nbconvert_exporter": "python",
   "pygments_lexer": "ipython3",
   "version": "3.9.12"
  },
  "orig_nbformat": 4,
  "vscode": {
   "interpreter": {
    "hash": "a3cfcd2c131dde6df238832f88308604a1eb90fc6d6d6fea5319579fd35ec8b6"
   }
  }
 },
 "nbformat": 4,
 "nbformat_minor": 2
}
