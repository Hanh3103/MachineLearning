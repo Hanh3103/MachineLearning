{
 "cells": [
  {
   "cell_type": "code",
   "execution_count": 1,
   "metadata": {},
   "outputs": [],
   "source": [
    "from copy import deepcopy\n",
    "from itertools import tee\n",
    "from pyparsing import col"
   ]
  },
  {
   "cell_type": "code",
   "execution_count": 2,
   "metadata": {},
   "outputs": [
    {
     "name": "stdout",
     "output_type": "stream",
     "text": [
      "[[1, 4, 7], [2, 5, 8], [3, 6, 9]]\n"
     ]
    }
   ],
   "source": [
    "def transp(matrix):\n",
    "    rows = len(matrix)\n",
    "    columns = len(matrix[0])\n",
    "\n",
    "    matrix_T= []\n",
    "    for j in range(columns):\n",
    "        row_of_trans = []\n",
    "        for row in matrix:\n",
    "            row_of_trans.append(row[j])\n",
    "        matrix_T.append(row_of_trans)\n",
    "    print(matrix_T)\n",
    "\n",
    "x = [[1,2,3],[4,5,6],[7,8,9]]\n",
    "transp(x)"
   ]
  },
  {
   "cell_type": "code",
   "execution_count": 4,
   "metadata": {},
   "outputs": [
    {
     "name": "stdout",
     "output_type": "stream",
     "text": [
      "The determinant of B -->  -103\n"
     ]
    }
   ],
   "source": [
    "def modified_matrix(matrix, j):\n",
    "    copy_x = deepcopy(matrix)\n",
    "    #print('dee ' , copy_x)\n",
    "    #copy_x = matrix[:]\n",
    "    #print(copy_x)\n",
    "    if len(matrix) == 2:\n",
    "        return copy_x\n",
    "    else:\n",
    "        copy_x.pop(0)\n",
    "        for row in copy_x:\n",
    "            row.pop(j)\n",
    "        #print('r' , copy_x)\n",
    "        return copy_x\n",
    "\n",
    "\n",
    "def determinate(matrix):\n",
    "    rows = len(matrix)\n",
    "    columns = len(matrix[0])\n",
    "\n",
    "    if rows == 1: # det of 1x1 matrix\n",
    "        det = matrix[0]\n",
    "        return det\n",
    "    elif rows == 2: # det of 2x2 matrix\n",
    "        det = matrix[0][0] * matrix[1][1] - matrix[1][0] * matrix[0][1]\n",
    "        return det\n",
    "    else:\n",
    "        det = 0\n",
    "        for j in range(columns):\n",
    "            det += ((-1)**j)*matrix[0][j]*determinate(modified_matrix(matrix,j))\n",
    "        return det\n",
    "\n",
    "B = [[1,2,8],[3,5,7],[5,2,7]]\n",
    "print(\"The determinant of B --> \",determinate(B))"
   ]
  },
  {
   "cell_type": "code",
   "execution_count": 5,
   "metadata": {},
   "outputs": [
    {
     "name": "stdout",
     "output_type": "stream",
     "text": [
      "The multiplication of matrics is  [[65, 76, 87], [72, 87, 102], [62, 76, 90]]\n"
     ]
    }
   ],
   "source": [
    "def multiplikation(matrix, other):\n",
    "    rows = len(matrix)\n",
    "    colums = len(matrix[0])\n",
    "\n",
    "    other_rows = len(other)\n",
    "    other_colums = len(other[0])\n",
    "    result = []\n",
    "\n",
    "    if colums == other_rows :\n",
    "        for  i in range(rows):\n",
    "            row = []\n",
    "            for j in range(other_colums):\n",
    "                temp = 0\n",
    "                for k in range(colums):\n",
    "                    temp += matrix[i][k]*other[k][j]\n",
    "                row.append(temp)\n",
    "            result.append(row)\n",
    "        return result\n",
    "    else:\n",
    "        print(\"cannot have the multiplication\")\n",
    "\n",
    "B = [[1,2,8],[3,5,7],[5,2,7]]\n",
    "x = [[1,2,3],[4,5,6],[7,8,9]]\n",
    "print(\"The multiplication of matrics is \", multiplikation(B, x))"
   ]
  }
 ],
 "metadata": {
  "kernelspec": {
   "display_name": "Python 3.8.0 64-bit",
   "language": "python",
   "name": "python3"
  },
  "language_info": {
   "codemirror_mode": {
    "name": "ipython",
    "version": 3
   },
   "file_extension": ".py",
   "mimetype": "text/x-python",
   "name": "python",
   "nbconvert_exporter": "python",
   "pygments_lexer": "ipython3",
   "version": "3.8.0"
  },
  "orig_nbformat": 4,
  "vscode": {
   "interpreter": {
    "hash": "baef28fafccf366bf1d5cceeb099ea9014785d7f92ca96aa988dc0d80e1c8bfe"
   }
  }
 },
 "nbformat": 4,
 "nbformat_minor": 2
}
