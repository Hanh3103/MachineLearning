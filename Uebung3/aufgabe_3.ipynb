{
 "cells": [
  {
   "cell_type": "markdown",
   "source": [
    "Aufgabe 3)\n",
    "a)\n",
    "PCA und einer PCoA sind gleich, wenn es sich um euklidische Distanzen handelt. Der PCoA hat genau die gleichen Schritte wie der PCA Test abgesehen davon, dass der PCoA die Distanzen und Pca die Korrelation betrachtet. Deswegen werden beim PCoA nicht die euklidischen Distanzen betrachtet, sondern andere wie die 'log-fold-change'.\n",
    "\n",
    "b)\n",
    "Ein erfolgreicher PCoA Test hat 2-3 Achsen. Mehr ist unsinnig, da es bei PCoA darum geht die Dimension so zu reduzieren um die Daten danach grafisch darstellen zu können. Das geht ab 4 Achsen nicht. Ein PCoA sollte aber mindestens 50 % der Variation erklären. Wenn 1 oder 2 Achsen bereits einen sehr hohen Anteil haben sollte man so wenig wie möglich benutzen."
   ],
   "metadata": {
    "collapsed": false
   }
  }
 ],
 "metadata": {
  "kernelspec": {
   "display_name": "Python 3",
   "language": "python",
   "name": "python3"
  },
  "language_info": {
   "codemirror_mode": {
    "name": "ipython",
    "version": 2
   },
   "file_extension": ".py",
   "mimetype": "text/x-python",
   "name": "python",
   "nbconvert_exporter": "python",
   "pygments_lexer": "ipython2",
   "version": "2.7.6"
  }
 },
 "nbformat": 4,
 "nbformat_minor": 0
}
