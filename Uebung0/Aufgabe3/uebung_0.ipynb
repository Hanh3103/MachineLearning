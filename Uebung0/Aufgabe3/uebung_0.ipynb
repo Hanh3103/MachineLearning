{
 "cells": [
  {
   "cell_type": "markdown",
   "id": "eeb282c8",
   "metadata": {},
   "source": [
    "# Uebung 0 Aufgabe 3"
   ]
  },
  {
   "cell_type": "code",
   "execution_count": 1,
   "id": "e0790676",
   "metadata": {
    "pycharm": {
     "is_executing": true
    }
   },
   "outputs": [],
   "source": [
    "import yaml"
   ]
  },
  {
   "cell_type": "code",
   "execution_count": 2,
   "id": "2a199400",
   "metadata": {
    "pycharm": {
     "is_executing": true
    }
   },
   "outputs": [],
   "source": [
    "with open(\"example_data.yaml\") as ex:\n",
    "    beispiel = yaml.load(ex)"
   ]
  }
 ],
 "metadata": {
  "kernelspec": {
   "display_name": "Python 3.7.1 ('pyyaml2')",
   "language": "python",
   "name": "python3"
  },
  "language_info": {
   "codemirror_mode": {
    "name": "ipython",
    "version": 3
   },
   "file_extension": ".py",
   "mimetype": "text/x-python",
   "name": "python",
   "nbconvert_exporter": "python",
   "pygments_lexer": "ipython3",
   "version": "3.7.1"
  },
  "vscode": {
   "interpreter": {
    "hash": "36cbe0e445975f2fec68b5a12ff06c171431512a56733c8b044cfd97d9424e25"
   }
  }
 },
 "nbformat": 4,
 "nbformat_minor": 5
}
